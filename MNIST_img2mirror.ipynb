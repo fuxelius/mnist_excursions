{
 "cells": [
  {
   "cell_type": "code",
   "execution_count": 4,
   "id": "d78cde81-b6c2-4c59-b923-30aba2ea656a",
   "metadata": {},
   "outputs": [],
   "source": [
    "import numpy as np\n",
    "import tensorflow as tf\n",
    "from tensorflow.keras.datasets import mnist\n",
    "\n",
    "(train_images, train_labels), _ = mnist.load_data()\n",
    "\n",
    "mirror_images = tf.identity(train_images)\n",
    "mirror_images = tf.image.flip_left_right(mirror_images)\n",
    "mirror_images = tf.reshape(mirror_images, [60000, 28 * 28])\n",
    "mirror_images = tf.cast(mirror_images, \"float32\") / 255\n",
    "\n",
    "train_images = tf.reshape(train_images, [60000, 28 * 28])\n",
    "train_images = tf.cast(train_images, \"float32\") / 255\n",
    "\n",
    "test_images = train_images[:10000]\n",
    "train_images = train_images[10000:]\n",
    "mirror_images = mirror_images[10000:]"
   ]
  },
  {
   "cell_type": "code",
   "execution_count": 5,
   "id": "d5aa11f2-f83c-432f-9f33-57bb2936dbcc",
   "metadata": {},
   "outputs": [
    {
     "data": {
      "text/plain": [
       "TensorShape([50000, 784])"
      ]
     },
     "execution_count": 5,
     "metadata": {},
     "output_type": "execute_result"
    }
   ],
   "source": [
    "mirror_images.shape\n",
    "# train_images.shape"
   ]
  },
  {
   "cell_type": "code",
   "execution_count": 6,
   "id": "449cc91c-9ff7-4ead-8e62-6bd02f134894",
   "metadata": {},
   "outputs": [
    {
     "name": "stdout",
     "output_type": "stream",
     "text": [
      "Model: \"mnist_2_model\"\n",
      "_________________________________________________________________\n",
      " Layer (type)                Output Shape              Param #   \n",
      "=================================================================\n",
      " dense_3 (Dense)             (None, 512)               401920    \n",
      "                                                                 \n",
      " dropout_2 (Dropout)         (None, 512)               0         \n",
      "                                                                 \n",
      " dense_4 (Dense)             (None, 512)               262656    \n",
      "                                                                 \n",
      " dropout_3 (Dropout)         (None, 512)               0         \n",
      "                                                                 \n",
      " dense_5 (Dense)             (None, 784)               402192    \n",
      "                                                                 \n",
      "=================================================================\n",
      "Total params: 1,066,768\n",
      "Trainable params: 1,066,768\n",
      "Non-trainable params: 0\n",
      "_________________________________________________________________\n"
     ]
    }
   ],
   "source": [
    "from tensorflow import keras\n",
    "from tensorflow.keras import layers\n",
    "\n",
    "model = keras.Sequential(name=\"mnist_2_model\")\n",
    "\n",
    "model.add(keras.Input(shape=(784,)))\n",
    "model.add(layers.Dense(512, activation=\"relu\"))\n",
    "model.add(layers.Dropout(0.5))\n",
    "model.add(layers.Dense(512, activation=\"relu\"))\n",
    "model.add(layers.Dropout(0.5))\n",
    "model.add(layers.Dense(784))\n",
    "\n",
    "model.summary()\n",
    "\n",
    "model.compile(optimizer=\"adam\",\n",
    "              loss=\"mean_squared_error\",\n",
    "              metrics=[\"mse\"])"
   ]
  },
  {
   "cell_type": "markdown",
   "id": "726ecb8d-5f58-48a1-ab9e-ad046b04e438",
   "metadata": {},
   "source": [
    "The train_images is trained to its mirror image in mirror_images with no activation function used. This means the output layer (784 nodes) is directly subtracted from the mirror image  to form the mean square error, which constitutes the objective function for the back propagation."
   ]
  },
  {
   "cell_type": "code",
   "execution_count": 7,
   "id": "50298f79-0aed-48ed-a1fc-7cbfd3bfacc5",
   "metadata": {},
   "outputs": [],
   "source": [
    "callback_list = [\n",
    "    keras.callbacks.EarlyStopping(\n",
    "        monitor=\"val_loss\",\n",
    "        patience=2\n",
    "    ),\n",
    "\n",
    "    keras.callbacks.ModelCheckpoint(\n",
    "        filepath=\"model1.keras\",\n",
    "        monitor=\"val_loss\"\n",
    "    ),\n",
    "\n",
    "    keras.callbacks.TensorBoard(\n",
    "        log_dir=\".\"\n",
    "    )\n",
    "]"
   ]
  },
  {
   "cell_type": "code",
   "execution_count": 8,
   "id": "57effe90-820b-4431-b972-6fa5bd284375",
   "metadata": {},
   "outputs": [
    {
     "name": "stdout",
     "output_type": "stream",
     "text": [
      "Epoch 1/50\n",
      "313/313 [==============================] - 3s 9ms/step - loss: 0.0510 - mse: 0.0510 - val_loss: 0.0318 - val_mse: 0.0318\n",
      "Epoch 2/50\n",
      "313/313 [==============================] - 3s 8ms/step - loss: 0.0346 - mse: 0.0346 - val_loss: 0.0243 - val_mse: 0.0243\n",
      "Epoch 3/50\n",
      "313/313 [==============================] - 2s 8ms/step - loss: 0.0310 - mse: 0.0310 - val_loss: 0.0226 - val_mse: 0.0226\n",
      "Epoch 4/50\n",
      "313/313 [==============================] - 2s 8ms/step - loss: 0.0292 - mse: 0.0292 - val_loss: 0.0209 - val_mse: 0.0209\n",
      "Epoch 5/50\n",
      "313/313 [==============================] - 2s 8ms/step - loss: 0.0281 - mse: 0.0281 - val_loss: 0.0196 - val_mse: 0.0196\n",
      "Epoch 6/50\n",
      "313/313 [==============================] - 3s 8ms/step - loss: 0.0273 - mse: 0.0273 - val_loss: 0.0186 - val_mse: 0.0186\n",
      "Epoch 7/50\n",
      "313/313 [==============================] - 3s 9ms/step - loss: 0.0267 - mse: 0.0267 - val_loss: 0.0182 - val_mse: 0.0182\n",
      "Epoch 8/50\n",
      "313/313 [==============================] - 3s 9ms/step - loss: 0.0262 - mse: 0.0262 - val_loss: 0.0176 - val_mse: 0.0176\n",
      "Epoch 9/50\n",
      "313/313 [==============================] - 3s 8ms/step - loss: 0.0258 - mse: 0.0258 - val_loss: 0.0173 - val_mse: 0.0173\n",
      "Epoch 10/50\n",
      "313/313 [==============================] - 3s 9ms/step - loss: 0.0255 - mse: 0.0255 - val_loss: 0.0174 - val_mse: 0.0174\n",
      "Epoch 11/50\n",
      "313/313 [==============================] - 3s 8ms/step - loss: 0.0252 - mse: 0.0252 - val_loss: 0.0166 - val_mse: 0.0166\n",
      "Epoch 12/50\n",
      "313/313 [==============================] - 3s 9ms/step - loss: 0.0249 - mse: 0.0249 - val_loss: 0.0171 - val_mse: 0.0171\n",
      "Epoch 13/50\n",
      "313/313 [==============================] - 3s 8ms/step - loss: 0.0248 - mse: 0.0248 - val_loss: 0.0165 - val_mse: 0.0165\n",
      "Epoch 14/50\n",
      "313/313 [==============================] - 2s 8ms/step - loss: 0.0245 - mse: 0.0245 - val_loss: 0.0168 - val_mse: 0.0168\n",
      "Epoch 15/50\n",
      "313/313 [==============================] - 2s 8ms/step - loss: 0.0244 - mse: 0.0244 - val_loss: 0.0160 - val_mse: 0.0160\n",
      "Epoch 16/50\n",
      "313/313 [==============================] - 2s 8ms/step - loss: 0.0242 - mse: 0.0242 - val_loss: 0.0158 - val_mse: 0.0158\n",
      "Epoch 17/50\n",
      "313/313 [==============================] - 2s 8ms/step - loss: 0.0241 - mse: 0.0241 - val_loss: 0.0158 - val_mse: 0.0158\n",
      "Epoch 18/50\n",
      "313/313 [==============================] - 3s 8ms/step - loss: 0.0240 - mse: 0.0240 - val_loss: 0.0155 - val_mse: 0.0155\n",
      "Epoch 19/50\n",
      "313/313 [==============================] - 2s 8ms/step - loss: 0.0239 - mse: 0.0239 - val_loss: 0.0157 - val_mse: 0.0157\n",
      "Epoch 20/50\n",
      "313/313 [==============================] - 2s 8ms/step - loss: 0.0237 - mse: 0.0237 - val_loss: 0.0152 - val_mse: 0.0152\n",
      "Epoch 21/50\n",
      "313/313 [==============================] - 2s 8ms/step - loss: 0.0236 - mse: 0.0236 - val_loss: 0.0154 - val_mse: 0.0154\n",
      "Epoch 22/50\n",
      "313/313 [==============================] - 2s 8ms/step - loss: 0.0236 - mse: 0.0236 - val_loss: 0.0152 - val_mse: 0.0152\n"
     ]
    }
   ],
   "source": [
    "history = model.fit(\n",
    "    train_images, mirror_images,\n",
    "    epochs=50,\n",
    "    callbacks=callback_list,\n",
    "    batch_size=128,\n",
    "    validation_split=0.2)"
   ]
  },
  {
   "cell_type": "code",
   "execution_count": 9,
   "id": "4cb8b310-16b0-4806-a61a-c5a87f82f5c0",
   "metadata": {},
   "outputs": [
    {
     "data": {
      "image/png": "[encoded data removed]",
      "text/plain": [
       "<Figure size 432x288 with 1 Axes>"
      ]
     },
     "metadata": {
      "needs_background": "light"
     },
     "output_type": "display_data"
    }
   ],
   "source": [
    "import matplotlib.pyplot as plt\n",
    "history_dict = history.history\n",
    "loss_values = history_dict[\"loss\"]\n",
    "val_loss_values = history_dict[\"val_loss\"]\n",
    "epochs = range(1, len(loss_values) + 1)\n",
    "plt.plot(epochs, loss_values, \"bo\", label=\"Training loss\")\n",
    "plt.plot(epochs, val_loss_values, \"b\", label=\"Validation loss\")\n",
    "plt.title(\"Training and validation loss\")\n",
    "plt.xlabel(\"Epochs\")\n",
    "plt.ylabel(\"Loss\")\n",
    "plt.legend()\n",
    "plt.show()"
   ]
  },
  {
   "cell_type": "code",
   "execution_count": 10,
   "id": "cf844eab-1807-4194-b7bb-d5700ad63199",
   "metadata": {},
   "outputs": [
    {
     "name": "stdout",
     "output_type": "stream",
     "text": [
      "79/79 [==============================] - 0s 2ms/step\n"
     ]
    }
   ],
   "source": [
    "predictions = model.predict(test_images, batch_size=128)"
   ]
  },
  {
   "cell_type": "code",
   "execution_count": 11,
   "id": "53a756e5-5bf5-4af1-afe1-4022c0aac107",
   "metadata": {},
   "outputs": [
    {
     "data": {
      "text/plain": [
       "(10000, 784)"
      ]
     },
     "execution_count": 11,
     "metadata": {},
     "output_type": "execute_result"
    }
   ],
   "source": [
    "predictions.shape"
   ]
  },
  {
   "cell_type": "code",
   "execution_count": 12,
   "id": "b1900c4d-1f06-4021-981b-e9e2dadf6838",
   "metadata": {},
   "outputs": [
    {
     "data": {
      "image/png": "[encoded data removed]",
      "text/plain": [
       "<Figure size 432x288 with 1 Axes>"
      ]
     },
     "metadata": {
      "needs_background": "light"
     },
     "output_type": "display_data"
    }
   ],
   "source": [
    "import matplotlib.pyplot as plt\n",
    "\n",
    "digit = tf.reshape(test_images[13], [28,28])\n",
    "plt.imshow(digit, cmap=plt.cm.binary)\n",
    "plt.show()\n",
    "# plt.savefig('test_images_145.png', bbox_inches='tight')"
   ]
  },
  {
   "cell_type": "code",
   "execution_count": 13,
   "id": "e4f8e512-61f2-460a-8851-05a91007b683",
   "metadata": {},
   "outputs": [
    {
     "data": {
      "image/png": "[encoded data removed]",
      "text/plain": [
       "<Figure size 432x288 with 1 Axes>"
      ]
     },
     "metadata": {
      "needs_background": "light"
     },
     "output_type": "display_data"
    }
   ],
   "source": [
    "digit = tf.reshape(predictions[13], [28,28])\n",
    "plt.imshow(digit, cmap=plt.cm.binary)\n",
    "plt.show()\n",
    "# plt.savefig('predictions_145.png', bbox_inches='tight')"
   ]
  }
 ],
 "metadata": {
  "kernelspec": {
   "display_name": "Python 3",
   "language": "python",
   "name": "python3"
  },
  "language_info": {
   "codemirror_mode": {
    "name": "ipython",
    "version": 3
   },
   "file_extension": ".py",
   "mimetype": "text/x-python",
   "name": "python",
   "nbconvert_exporter": "python",
   "pygments_lexer": "ipython3",
   "version": "3.9.16"
  }
 },
 "nbformat": 4,
 "nbformat_minor": 5
}
