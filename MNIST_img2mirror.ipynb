{
 "cells": [
  {
   "cell_type": "code",
   "execution_count": 1,
   "id": "d78cde81-b6c2-4c59-b923-30aba2ea656a",
   "metadata": {},
   "outputs": [],
   "source": [
    "from tensorflow.keras.datasets import mnist\n",
    "import numpy as np\n",
    "import tensorflow as tf\n",
    "\n",
    "(train_images, train_labels), _ = mnist.load_data()\n",
    "\n",
    "mirror_images = tf.identity(train_images)\n",
    "mirror_images = tf.image.flip_left_right(mirror_images)\n",
    "mirror_images = tf.reshape(mirror_images, [60000, 28 * 28])\n",
    "mirror_images = tf.cast(mirror_images, \"float32\") / 255\n",
    "\n",
    "train_images = tf.reshape(train_images, [60000, 28 * 28])\n",
    "train_images = tf.cast(train_images, \"float32\") / 255\n",
    "\n",
    "train_images = train_images[10000:]\n",
    "mirror_images = mirror_images[10000:]\n",
    "test_images = train_images[:10000]"
   ]
  },
  {
   "cell_type": "code",
   "execution_count": 2,
   "id": "d5aa11f2-f83c-432f-9f33-57bb2936dbcc",
   "metadata": {},
   "outputs": [
    {
     "data": {
      "text/plain": [
       "TensorShape([50000, 784])"
      ]
     },
     "execution_count": 2,
     "metadata": {},
     "output_type": "execute_result"
    }
   ],
   "source": [
    "mirror_images.shape\n",
    "# mirror_images[0]\n",
    "# train_images[0]"
   ]
  },
  {
   "cell_type": "code",
   "execution_count": 3,
   "id": "449cc91c-9ff7-4ead-8e62-6bd02f134894",
   "metadata": {},
   "outputs": [],
   "source": [
    "from tensorflow import keras\n",
    "from tensorflow.keras import layers\n",
    "\n",
    "model = keras.Sequential([\n",
    "    layers.Dense(512, activation=\"relu\"),\n",
    "    layers.Dropout(0.5),\n",
    "    layers.Dense(512, activation=\"relu\"),\n",
    "    layers.Dropout(0.5),\n",
    "    layers.Dense(784)\n",
    "])\n",
    "\n",
    "model.compile(optimizer=\"adam\",\n",
    "              loss=\"mean_squared_error\",\n",
    "              metrics=[\"mse\"])"
   ]
  },
  {
   "cell_type": "code",
   "execution_count": 4,
   "id": "57effe90-820b-4431-b972-6fa5bd284375",
   "metadata": {
    "scrolled": true
   },
   "outputs": [
    {
     "name": "stdout",
     "output_type": "stream",
     "text": [
      "Epoch 1/20\n",
      "313/313 [==============================] - 3s 8ms/step - loss: 0.0509 - mse: 0.0509 - val_loss: 0.0305 - val_mse: 0.0305\n",
      "Epoch 2/20\n",
      "313/313 [==============================] - 2s 8ms/step - loss: 0.0344 - mse: 0.0344 - val_loss: 0.0260 - val_mse: 0.0260\n",
      "Epoch 3/20\n",
      "313/313 [==============================] - 2s 8ms/step - loss: 0.0306 - mse: 0.0306 - val_loss: 0.0221 - val_mse: 0.0221\n",
      "Epoch 4/20\n",
      "313/313 [==============================] - 2s 8ms/step - loss: 0.0289 - mse: 0.0289 - val_loss: 0.0210 - val_mse: 0.0210\n",
      "Epoch 5/20\n",
      "313/313 [==============================] - 2s 8ms/step - loss: 0.0276 - mse: 0.0276 - val_loss: 0.0200 - val_mse: 0.0200\n",
      "Epoch 6/20\n",
      "313/313 [==============================] - 2s 8ms/step - loss: 0.0269 - mse: 0.0269 - val_loss: 0.0185 - val_mse: 0.0185\n",
      "Epoch 7/20\n",
      "313/313 [==============================] - 2s 8ms/step - loss: 0.0263 - mse: 0.0263 - val_loss: 0.0180 - val_mse: 0.0180\n",
      "Epoch 8/20\n",
      "313/313 [==============================] - 2s 8ms/step - loss: 0.0258 - mse: 0.0258 - val_loss: 0.0178 - val_mse: 0.0178\n",
      "Epoch 9/20\n",
      "313/313 [==============================] - 2s 8ms/step - loss: 0.0253 - mse: 0.0253 - val_loss: 0.0174 - val_mse: 0.0174\n",
      "Epoch 10/20\n",
      "313/313 [==============================] - 2s 8ms/step - loss: 0.0251 - mse: 0.0251 - val_loss: 0.0170 - val_mse: 0.0170\n",
      "Epoch 11/20\n",
      "313/313 [==============================] - 2s 8ms/step - loss: 0.0248 - mse: 0.0248 - val_loss: 0.0170 - val_mse: 0.0170\n",
      "Epoch 12/20\n",
      "313/313 [==============================] - 2s 8ms/step - loss: 0.0246 - mse: 0.0246 - val_loss: 0.0163 - val_mse: 0.0163\n",
      "Epoch 13/20\n",
      "313/313 [==============================] - 2s 8ms/step - loss: 0.0244 - mse: 0.0244 - val_loss: 0.0164 - val_mse: 0.0164\n",
      "Epoch 14/20\n",
      "313/313 [==============================] - 2s 8ms/step - loss: 0.0243 - mse: 0.0243 - val_loss: 0.0161 - val_mse: 0.0161\n",
      "Epoch 15/20\n",
      "313/313 [==============================] - 2s 8ms/step - loss: 0.0240 - mse: 0.0240 - val_loss: 0.0161 - val_mse: 0.0161\n",
      "Epoch 16/20\n",
      "313/313 [==============================] - 2s 8ms/step - loss: 0.0239 - mse: 0.0239 - val_loss: 0.0160 - val_mse: 0.0160\n",
      "Epoch 17/20\n",
      "313/313 [==============================] - 2s 8ms/step - loss: 0.0238 - mse: 0.0238 - val_loss: 0.0154 - val_mse: 0.0154\n",
      "Epoch 18/20\n",
      "313/313 [==============================] - 2s 8ms/step - loss: 0.0237 - mse: 0.0237 - val_loss: 0.0158 - val_mse: 0.0158\n",
      "Epoch 19/20\n",
      "313/313 [==============================] - 2s 8ms/step - loss: 0.0236 - mse: 0.0236 - val_loss: 0.0157 - val_mse: 0.0157\n",
      "Epoch 20/20\n",
      "313/313 [==============================] - 2s 8ms/step - loss: 0.0234 - mse: 0.0234 - val_loss: 0.0156 - val_mse: 0.0156\n"
     ]
    }
   ],
   "source": [
    "history = model.fit(\n",
    "    train_images, mirror_images,\n",
    "    epochs=20,\n",
    "    batch_size=128,\n",
    "    validation_split=0.2)"
   ]
  },
  {
   "cell_type": "code",
   "execution_count": 5,
   "id": "4cb8b310-16b0-4806-a61a-c5a87f82f5c0",
   "metadata": {},
   "outputs": [
    {
     "data": {
      "image/png": "[encoded data removed]",
      "text/plain": [
       "<Figure size 432x288 with 1 Axes>"
      ]
     },
     "metadata": {
      "needs_background": "light"
     },
     "output_type": "display_data"
    }
   ],
   "source": [
    "import matplotlib.pyplot as plt\n",
    "history_dict = history.history\n",
    "loss_values = history_dict[\"loss\"]\n",
    "val_loss_values = history_dict[\"val_loss\"]\n",
    "epochs = range(1, len(loss_values) + 1)\n",
    "plt.plot(epochs, loss_values, \"bo\", label=\"Training loss\")\n",
    "plt.plot(epochs, val_loss_values, \"b\", label=\"Validation loss\")\n",
    "plt.title(\"Training and validation loss\")\n",
    "plt.xlabel(\"Epochs\")\n",
    "plt.ylabel(\"Loss\")\n",
    "plt.legend()\n",
    "plt.show()"
   ]
  },
  {
   "cell_type": "code",
   "execution_count": 6,
   "id": "cf844eab-1807-4194-b7bb-d5700ad63199",
   "metadata": {},
   "outputs": [
    {
     "name": "stdout",
     "output_type": "stream",
     "text": [
      "391/391 [==============================] - 1s 2ms/step\n"
     ]
    }
   ],
   "source": [
    "predictions = model.predict(train_images, batch_size=128)"
   ]
  },
  {
   "cell_type": "code",
   "execution_count": 7,
   "id": "53a756e5-5bf5-4af1-afe1-4022c0aac107",
   "metadata": {},
   "outputs": [
    {
     "data": {
      "text/plain": [
       "(50000, 784)"
      ]
     },
     "execution_count": 7,
     "metadata": {},
     "output_type": "execute_result"
    }
   ],
   "source": [
    "predictions.shape"
   ]
  },
  {
   "cell_type": "code",
   "execution_count": 25,
   "id": "b1900c4d-1f06-4021-981b-e9e2dadf6838",
   "metadata": {},
   "outputs": [
    {
     "data": {
      "image/png": "[encoded data removed]",
      "text/plain": [
       "<Figure size 432x288 with 1 Axes>"
      ]
     },
     "metadata": {
      "needs_background": "light"
     },
     "output_type": "display_data"
    }
   ],
   "source": [
    "import tensorflow as tf\n",
    "import matplotlib.pyplot as plt\n",
    "\n",
    "digit = tf.reshape(test_images[145], [28,28])\n",
    "plt.imshow(digit, cmap=plt.cm.binary)\n",
    "plt.show()\n",
    "# plt.savefig('test_images_145.png', bbox_inches='tight')"
   ]
  },
  {
   "cell_type": "code",
   "execution_count": 26,
   "id": "e4f8e512-61f2-460a-8851-05a91007b683",
   "metadata": {},
   "outputs": [
    {
     "data": {
      "image/png": "[encoded data removed]",
      "text/plain": [
       "<Figure size 432x288 with 1 Axes>"
      ]
     },
     "metadata": {
      "needs_background": "light"
     },
     "output_type": "display_data"
    }
   ],
   "source": [
    "digit = tf.reshape(predictions[145], [28,28])\n",
    "plt.imshow(digit, cmap=plt.cm.binary)\n",
    "plt.show()\n",
    "# plt.savefig('predictions_145.png', bbox_inches='tight')"
   ]
  },
  {
   "cell_type": "code",
   "execution_count": null,
   "id": "961d9cf5-ceb9-498f-928f-ad7703c7c9b8",
   "metadata": {},
   "outputs": [],
   "source": []
  }
 ],
 "metadata": {
  "kernelspec": {
   "display_name": "Python 3",
   "language": "python",
   "name": "python3"
  },
  "language_info": {
   "codemirror_mode": {
    "name": "ipython",
    "version": 3
   },
   "file_extension": ".py",
   "mimetype": "text/x-python",
   "name": "python",
   "nbconvert_exporter": "python",
   "pygments_lexer": "ipython3",
   "version": "3.9.16"
  }
 },
 "nbformat": 4,
 "nbformat_minor": 5
}
