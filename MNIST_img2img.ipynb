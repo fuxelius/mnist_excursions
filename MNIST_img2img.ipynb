{
 "cells": [
  {
   "cell_type": "code",
   "execution_count": 1,
   "id": "d78cde81-b6c2-4c59-b923-30aba2ea656a",
   "metadata": {},
   "outputs": [],
   "source": [
    "import tensorflow as tf\n",
    "import numpy as np\n",
    "from tensorflow.keras.datasets import mnist\n",
    "\n",
    "(train_images, train_labels), _ = mnist.load_data()\n",
    "\n",
    "train_images = tf.reshape(train_images, [60000, 28 * 28])\n",
    "train_images = tf.cast(train_images, \"float32\") / 255\n",
    "\n",
    "test_images = train_images[:10000]\n",
    "train_images = train_images[10000:]"
   ]
  },
  {
   "cell_type": "code",
   "execution_count": 2,
   "id": "449cc91c-9ff7-4ead-8e62-6bd02f134894",
   "metadata": {},
   "outputs": [],
   "source": [
    "from tensorflow import keras\n",
    "from tensorflow.keras import layers\n",
    "\n",
    "model = keras.Sequential([\n",
    "    layers.Dense(256, activation=\"relu\"),\n",
    "    layers.Dropout(0.5),\n",
    "    layers.Dense(256, activation=\"relu\"),\n",
    "    layers.Dropout(0.5),\n",
    "    layers.Dense(784)\n",
    "])\n",
    "\n",
    "model.compile(optimizer=\"adam\",\n",
    "              loss=\"mean_squared_error\",\n",
    "              metrics=[\"mse\"])"
   ]
  },
  {
   "cell_type": "code",
   "execution_count": 3,
   "id": "57effe90-820b-4431-b972-6fa5bd284375",
   "metadata": {
    "scrolled": true
   },
   "outputs": [
    {
     "name": "stdout",
     "output_type": "stream",
     "text": [
      "Epoch 1/20\n",
      "313/313 [==============================] - 2s 4ms/step - loss: 0.0578 - mse: 0.0578 - val_loss: 0.0389 - val_mse: 0.0389\n",
      "Epoch 2/20\n",
      "313/313 [==============================] - 1s 4ms/step - loss: 0.0415 - mse: 0.0415 - val_loss: 0.0313 - val_mse: 0.0313\n",
      "Epoch 3/20\n",
      "313/313 [==============================] - 1s 4ms/step - loss: 0.0373 - mse: 0.0373 - val_loss: 0.0289 - val_mse: 0.0289\n",
      "Epoch 4/20\n",
      "313/313 [==============================] - 1s 4ms/step - loss: 0.0351 - mse: 0.0351 - val_loss: 0.0262 - val_mse: 0.0262\n",
      "Epoch 5/20\n",
      "313/313 [==============================] - 1s 4ms/step - loss: 0.0337 - mse: 0.0337 - val_loss: 0.0255 - val_mse: 0.0255\n",
      "Epoch 6/20\n",
      "313/313 [==============================] - 1s 4ms/step - loss: 0.0329 - mse: 0.0329 - val_loss: 0.0239 - val_mse: 0.0239\n",
      "Epoch 7/20\n",
      "313/313 [==============================] - 1s 4ms/step - loss: 0.0322 - mse: 0.0322 - val_loss: 0.0240 - val_mse: 0.0240\n",
      "Epoch 8/20\n",
      "313/313 [==============================] - 1s 4ms/step - loss: 0.0317 - mse: 0.0317 - val_loss: 0.0230 - val_mse: 0.0230\n",
      "Epoch 9/20\n",
      "313/313 [==============================] - 1s 4ms/step - loss: 0.0314 - mse: 0.0314 - val_loss: 0.0226 - val_mse: 0.0226\n",
      "Epoch 10/20\n",
      "313/313 [==============================] - 1s 4ms/step - loss: 0.0310 - mse: 0.0310 - val_loss: 0.0222 - val_mse: 0.0222\n",
      "Epoch 11/20\n",
      "313/313 [==============================] - 1s 4ms/step - loss: 0.0307 - mse: 0.0307 - val_loss: 0.0225 - val_mse: 0.0225\n",
      "Epoch 12/20\n",
      "313/313 [==============================] - 1s 4ms/step - loss: 0.0305 - mse: 0.0305 - val_loss: 0.0216 - val_mse: 0.0216\n",
      "Epoch 13/20\n",
      "313/313 [==============================] - 1s 4ms/step - loss: 0.0303 - mse: 0.0303 - val_loss: 0.0217 - val_mse: 0.0217\n",
      "Epoch 14/20\n",
      "313/313 [==============================] - 1s 4ms/step - loss: 0.0301 - mse: 0.0301 - val_loss: 0.0213 - val_mse: 0.0213\n",
      "Epoch 15/20\n",
      "313/313 [==============================] - 1s 4ms/step - loss: 0.0299 - mse: 0.0299 - val_loss: 0.0211 - val_mse: 0.0211\n",
      "Epoch 16/20\n",
      "313/313 [==============================] - 1s 4ms/step - loss: 0.0298 - mse: 0.0298 - val_loss: 0.0211 - val_mse: 0.0211\n",
      "Epoch 17/20\n",
      "313/313 [==============================] - 1s 4ms/step - loss: 0.0297 - mse: 0.0297 - val_loss: 0.0206 - val_mse: 0.0206\n",
      "Epoch 18/20\n",
      "313/313 [==============================] - 1s 4ms/step - loss: 0.0295 - mse: 0.0295 - val_loss: 0.0206 - val_mse: 0.0206\n",
      "Epoch 19/20\n",
      "313/313 [==============================] - 1s 4ms/step - loss: 0.0295 - mse: 0.0295 - val_loss: 0.0207 - val_mse: 0.0207\n",
      "Epoch 20/20\n",
      "313/313 [==============================] - 1s 4ms/step - loss: 0.0293 - mse: 0.0293 - val_loss: 0.0203 - val_mse: 0.0203\n"
     ]
    }
   ],
   "source": [
    "history = model.fit(\n",
    "    train_images, train_images,\n",
    "    epochs=20,\n",
    "    batch_size=128,\n",
    "    validation_split=0.2)"
   ]
  },
  {
   "cell_type": "code",
   "execution_count": 4,
   "id": "4cb8b310-16b0-4806-a61a-c5a87f82f5c0",
   "metadata": {},
   "outputs": [
    {
     "data": {
      "image/png": "[encoded data removed]",
      "text/plain": [
       "<Figure size 432x288 with 1 Axes>"
      ]
     },
     "metadata": {
      "needs_background": "light"
     },
     "output_type": "display_data"
    }
   ],
   "source": [
    "import matplotlib.pyplot as plt\n",
    "history_dict = history.history\n",
    "loss_values = history_dict[\"loss\"]\n",
    "val_loss_values = history_dict[\"val_loss\"]\n",
    "epochs = range(1, len(loss_values) + 1)\n",
    "plt.plot(epochs, loss_values, \"bo\", label=\"Training loss\")\n",
    "plt.plot(epochs, val_loss_values, \"b\", label=\"Validation loss\")\n",
    "plt.title(\"Training and validation loss\")\n",
    "plt.xlabel(\"Epochs\")\n",
    "plt.ylabel(\"Loss\")\n",
    "plt.legend()\n",
    "plt.show()"
   ]
  },
  {
   "cell_type": "code",
   "execution_count": 5,
   "id": "cf844eab-1807-4194-b7bb-d5700ad63199",
   "metadata": {},
   "outputs": [
    {
     "name": "stdout",
     "output_type": "stream",
     "text": [
      "79/79 [==============================] - 0s 1ms/step\n"
     ]
    }
   ],
   "source": [
    "predictions = model.predict(test_images, batch_size=128)"
   ]
  },
  {
   "cell_type": "code",
   "execution_count": 6,
   "id": "53a756e5-5bf5-4af1-afe1-4022c0aac107",
   "metadata": {},
   "outputs": [
    {
     "data": {
      "text/plain": [
       "(10000, 784)"
      ]
     },
     "execution_count": 6,
     "metadata": {},
     "output_type": "execute_result"
    }
   ],
   "source": [
    "predictions.shape"
   ]
  },
  {
   "cell_type": "code",
   "execution_count": 7,
   "id": "b1900c4d-1f06-4021-981b-e9e2dadf6838",
   "metadata": {},
   "outputs": [
    {
     "data": {
      "image/png": "[encoded data removed]",
      "text/plain": [
       "<Figure size 432x288 with 1 Axes>"
      ]
     },
     "metadata": {
      "needs_background": "light"
     },
     "output_type": "display_data"
    }
   ],
   "source": [
    "import tensorflow as tf\n",
    "import matplotlib.pyplot as plt\n",
    "\n",
    "#141\n",
    "\n",
    "digit = tf.reshape(test_images[1378], [28,28])\n",
    "plt.imshow(digit, cmap=plt.cm.binary)\n",
    "plt.show()\n",
    "# plt.savefig('plain_test_images_1378.png', bbox_inches='tight')"
   ]
  },
  {
   "cell_type": "code",
   "execution_count": 8,
   "id": "e4f8e512-61f2-460a-8851-05a91007b683",
   "metadata": {},
   "outputs": [
    {
     "data": {
      "image/png": "[encoded data removed]",
      "text/plain": [
       "<Figure size 432x288 with 1 Axes>"
      ]
     },
     "metadata": {
      "needs_background": "light"
     },
     "output_type": "display_data"
    }
   ],
   "source": [
    "digit = tf.reshape(predictions[1378], [28,28])\n",
    "plt.imshow(digit, cmap=plt.cm.binary)\n",
    "plt.show()\n",
    "# plt.savefig('plain_predictions_1378.png', bbox_inches='tight')"
   ]
  }
 ],
 "metadata": {
  "kernelspec": {
   "display_name": "Python 3",
   "language": "python",
   "name": "python3"
  },
  "language_info": {
   "codemirror_mode": {
    "name": "ipython",
    "version": 3
   },
   "file_extension": ".py",
   "mimetype": "text/x-python",
   "name": "python",
   "nbconvert_exporter": "python",
   "pygments_lexer": "ipython3",
   "version": "3.9.16"
  }
 },
 "nbformat": 4,
 "nbformat_minor": 5
}
