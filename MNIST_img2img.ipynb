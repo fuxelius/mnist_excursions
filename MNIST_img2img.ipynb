{
 "cells": [
  {
   "cell_type": "code",
   "execution_count": 2,
   "id": "d78cde81-b6c2-4c59-b923-30aba2ea656a",
   "metadata": {},
   "outputs": [],
   "source": [
    "import tensorflow as tf\n",
    "import numpy as np\n",
    "from tensorflow.keras.datasets import mnist\n",
    "\n",
    "(train_images, train_labels), _ = mnist.load_data()\n",
    "\n",
    "train_images = tf.reshape(train_images, [60000, 28 * 28])\n",
    "train_images = tf.cast(train_images, \"float32\") / 255\n",
    "\n",
    "test_images = train_images[:10000]\n",
    "train_images = train_images[10000:]"
   ]
  },
  {
   "cell_type": "code",
   "execution_count": 3,
   "id": "449cc91c-9ff7-4ead-8e62-6bd02f134894",
   "metadata": {},
   "outputs": [],
   "source": [
    "from tensorflow import keras\n",
    "from tensorflow.keras import layers\n",
    "\n",
    "model = keras.Sequential([\n",
    "    layers.Dense(512, activation=\"relu\"),\n",
    "    layers.Dropout(0.5),\n",
    "    layers.Dense(512, activation=\"relu\"),\n",
    "    layers.Dropout(0.5),\n",
    "    layers.Dense(784)\n",
    "])\n",
    "\n",
    "model.compile(optimizer=\"adam\",\n",
    "              loss=\"mean_squared_error\",\n",
    "              metrics=[\"mse\"])"
   ]
  },
  {
   "cell_type": "code",
   "execution_count": 4,
   "id": "57effe90-820b-4431-b972-6fa5bd284375",
   "metadata": {
    "scrolled": true
   },
   "outputs": [
    {
     "name": "stdout",
     "output_type": "stream",
     "text": [
      "Epoch 1/50\n",
      "313/313 [==============================] - 3s 8ms/step - loss: 0.0509 - mse: 0.0509 - val_loss: 0.0320 - val_mse: 0.0320\n",
      "Epoch 2/50\n",
      "313/313 [==============================] - 2s 8ms/step - loss: 0.0343 - mse: 0.0343 - val_loss: 0.0249 - val_mse: 0.0249\n",
      "Epoch 3/50\n",
      "313/313 [==============================] - 2s 8ms/step - loss: 0.0307 - mse: 0.0307 - val_loss: 0.0218 - val_mse: 0.0218\n",
      "Epoch 4/50\n",
      "313/313 [==============================] - 2s 8ms/step - loss: 0.0290 - mse: 0.0290 - val_loss: 0.0217 - val_mse: 0.0217\n",
      "Epoch 5/50\n",
      "313/313 [==============================] - 2s 8ms/step - loss: 0.0278 - mse: 0.0278 - val_loss: 0.0196 - val_mse: 0.0196\n",
      "Epoch 6/50\n",
      "313/313 [==============================] - 2s 8ms/step - loss: 0.0270 - mse: 0.0270 - val_loss: 0.0195 - val_mse: 0.0195\n",
      "Epoch 7/50\n",
      "313/313 [==============================] - 2s 8ms/step - loss: 0.0264 - mse: 0.0264 - val_loss: 0.0181 - val_mse: 0.0181\n",
      "Epoch 8/50\n",
      "313/313 [==============================] - 2s 8ms/step - loss: 0.0260 - mse: 0.0260 - val_loss: 0.0182 - val_mse: 0.0182\n",
      "Epoch 9/50\n",
      "313/313 [==============================] - 2s 8ms/step - loss: 0.0255 - mse: 0.0255 - val_loss: 0.0174 - val_mse: 0.0174\n",
      "Epoch 10/50\n",
      "313/313 [==============================] - 2s 8ms/step - loss: 0.0252 - mse: 0.0252 - val_loss: 0.0178 - val_mse: 0.0178\n",
      "Epoch 11/50\n",
      "313/313 [==============================] - 2s 8ms/step - loss: 0.0250 - mse: 0.0250 - val_loss: 0.0167 - val_mse: 0.0167\n",
      "Epoch 12/50\n",
      "313/313 [==============================] - 2s 8ms/step - loss: 0.0247 - mse: 0.0247 - val_loss: 0.0171 - val_mse: 0.0171\n",
      "Epoch 13/50\n",
      "313/313 [==============================] - 2s 8ms/step - loss: 0.0244 - mse: 0.0244 - val_loss: 0.0165 - val_mse: 0.0165\n",
      "Epoch 14/50\n",
      "313/313 [==============================] - 2s 8ms/step - loss: 0.0243 - mse: 0.0243 - val_loss: 0.0159 - val_mse: 0.0159\n",
      "Epoch 15/50\n",
      "313/313 [==============================] - 2s 8ms/step - loss: 0.0241 - mse: 0.0241 - val_loss: 0.0160 - val_mse: 0.0160\n",
      "Epoch 16/50\n",
      "313/313 [==============================] - 2s 8ms/step - loss: 0.0240 - mse: 0.0240 - val_loss: 0.0159 - val_mse: 0.0159\n",
      "Epoch 17/50\n",
      "313/313 [==============================] - 2s 8ms/step - loss: 0.0238 - mse: 0.0238 - val_loss: 0.0158 - val_mse: 0.0158\n",
      "Epoch 18/50\n",
      "313/313 [==============================] - 2s 8ms/step - loss: 0.0237 - mse: 0.0237 - val_loss: 0.0157 - val_mse: 0.0157\n",
      "Epoch 19/50\n",
      "313/313 [==============================] - 2s 8ms/step - loss: 0.0236 - mse: 0.0236 - val_loss: 0.0155 - val_mse: 0.0155\n",
      "Epoch 20/50\n",
      "313/313 [==============================] - 2s 8ms/step - loss: 0.0235 - mse: 0.0235 - val_loss: 0.0154 - val_mse: 0.0154\n",
      "Epoch 21/50\n",
      "313/313 [==============================] - 2s 8ms/step - loss: 0.0234 - mse: 0.0234 - val_loss: 0.0150 - val_mse: 0.0150\n",
      "Epoch 22/50\n",
      "313/313 [==============================] - 2s 8ms/step - loss: 0.0233 - mse: 0.0233 - val_loss: 0.0150 - val_mse: 0.0150\n",
      "Epoch 23/50\n",
      "313/313 [==============================] - 2s 8ms/step - loss: 0.0232 - mse: 0.0232 - val_loss: 0.0153 - val_mse: 0.0153\n",
      "Epoch 24/50\n",
      "313/313 [==============================] - 2s 8ms/step - loss: 0.0231 - mse: 0.0231 - val_loss: 0.0150 - val_mse: 0.0150\n",
      "Epoch 25/50\n",
      "313/313 [==============================] - 2s 8ms/step - loss: 0.0231 - mse: 0.0231 - val_loss: 0.0149 - val_mse: 0.0149\n",
      "Epoch 26/50\n",
      "313/313 [==============================] - 2s 8ms/step - loss: 0.0230 - mse: 0.0230 - val_loss: 0.0149 - val_mse: 0.0149\n",
      "Epoch 27/50\n",
      "313/313 [==============================] - 2s 8ms/step - loss: 0.0230 - mse: 0.0230 - val_loss: 0.0147 - val_mse: 0.0147\n",
      "Epoch 28/50\n",
      "313/313 [==============================] - 2s 8ms/step - loss: 0.0229 - mse: 0.0229 - val_loss: 0.0148 - val_mse: 0.0148\n",
      "Epoch 29/50\n",
      "313/313 [==============================] - 2s 8ms/step - loss: 0.0229 - mse: 0.0229 - val_loss: 0.0147 - val_mse: 0.0147\n",
      "Epoch 30/50\n",
      "313/313 [==============================] - 2s 8ms/step - loss: 0.0228 - mse: 0.0228 - val_loss: 0.0146 - val_mse: 0.0146\n",
      "Epoch 31/50\n",
      "313/313 [==============================] - 2s 8ms/step - loss: 0.0227 - mse: 0.0227 - val_loss: 0.0147 - val_mse: 0.0147\n",
      "Epoch 32/50\n",
      "313/313 [==============================] - 2s 8ms/step - loss: 0.0227 - mse: 0.0227 - val_loss: 0.0144 - val_mse: 0.0144\n",
      "Epoch 33/50\n",
      "313/313 [==============================] - 2s 8ms/step - loss: 0.0227 - mse: 0.0227 - val_loss: 0.0146 - val_mse: 0.0146\n",
      "Epoch 34/50\n",
      "313/313 [==============================] - 2s 8ms/step - loss: 0.0226 - mse: 0.0226 - val_loss: 0.0146 - val_mse: 0.0146\n",
      "Epoch 35/50\n",
      "313/313 [==============================] - 2s 8ms/step - loss: 0.0226 - mse: 0.0226 - val_loss: 0.0145 - val_mse: 0.0145\n",
      "Epoch 36/50\n",
      "313/313 [==============================] - 2s 8ms/step - loss: 0.0225 - mse: 0.0225 - val_loss: 0.0145 - val_mse: 0.0145\n",
      "Epoch 37/50\n",
      "313/313 [==============================] - 2s 8ms/step - loss: 0.0225 - mse: 0.0225 - val_loss: 0.0143 - val_mse: 0.0143\n",
      "Epoch 38/50\n",
      "313/313 [==============================] - 2s 8ms/step - loss: 0.0225 - mse: 0.0225 - val_loss: 0.0143 - val_mse: 0.0143\n",
      "Epoch 39/50\n",
      "313/313 [==============================] - 2s 8ms/step - loss: 0.0225 - mse: 0.0225 - val_loss: 0.0144 - val_mse: 0.0144\n",
      "Epoch 40/50\n",
      "313/313 [==============================] - 2s 8ms/step - loss: 0.0225 - mse: 0.0225 - val_loss: 0.0142 - val_mse: 0.0142\n",
      "Epoch 41/50\n",
      "313/313 [==============================] - 2s 8ms/step - loss: 0.0224 - mse: 0.0224 - val_loss: 0.0143 - val_mse: 0.0143\n",
      "Epoch 42/50\n",
      "313/313 [==============================] - 2s 8ms/step - loss: 0.0224 - mse: 0.0224 - val_loss: 0.0143 - val_mse: 0.0143\n",
      "Epoch 43/50\n",
      "313/313 [==============================] - 2s 8ms/step - loss: 0.0224 - mse: 0.0224 - val_loss: 0.0143 - val_mse: 0.0143\n",
      "Epoch 44/50\n",
      "313/313 [==============================] - 2s 8ms/step - loss: 0.0223 - mse: 0.0223 - val_loss: 0.0140 - val_mse: 0.0140\n",
      "Epoch 45/50\n",
      "313/313 [==============================] - 2s 8ms/step - loss: 0.0223 - mse: 0.0223 - val_loss: 0.0141 - val_mse: 0.0141\n",
      "Epoch 46/50\n",
      "313/313 [==============================] - 2s 8ms/step - loss: 0.0223 - mse: 0.0223 - val_loss: 0.0142 - val_mse: 0.0142\n",
      "Epoch 47/50\n",
      "313/313 [==============================] - 2s 8ms/step - loss: 0.0223 - mse: 0.0223 - val_loss: 0.0142 - val_mse: 0.0142\n",
      "Epoch 48/50\n",
      "313/313 [==============================] - 2s 8ms/step - loss: 0.0222 - mse: 0.0222 - val_loss: 0.0140 - val_mse: 0.0140\n",
      "Epoch 49/50\n",
      "313/313 [==============================] - 2s 8ms/step - loss: 0.0222 - mse: 0.0222 - val_loss: 0.0140 - val_mse: 0.0140\n",
      "Epoch 50/50\n",
      "313/313 [==============================] - 2s 8ms/step - loss: 0.0222 - mse: 0.0222 - val_loss: 0.0141 - val_mse: 0.0141\n"
     ]
    }
   ],
   "source": [
    "history = model.fit(\n",
    "    train_images, train_images,\n",
    "    epochs=20,\n",
    "    batch_size=128,\n",
    "    validation_split=0.2)"
   ]
  },
  {
   "cell_type": "code",
   "execution_count": 5,
   "id": "4cb8b310-16b0-4806-a61a-c5a87f82f5c0",
   "metadata": {},
   "outputs": [
    {
     "data": {
      "image/png": "[encoded data removed]",
      "text/plain": [
       "<Figure size 432x288 with 1 Axes>"
      ]
     },
     "metadata": {
      "needs_background": "light"
     },
     "output_type": "display_data"
    }
   ],
   "source": [
    "import matplotlib.pyplot as plt\n",
    "history_dict = history.history\n",
    "loss_values = history_dict[\"loss\"]\n",
    "val_loss_values = history_dict[\"val_loss\"]\n",
    "epochs = range(1, len(loss_values) + 1)\n",
    "plt.plot(epochs, loss_values, \"bo\", label=\"Training loss\")\n",
    "plt.plot(epochs, val_loss_values, \"b\", label=\"Validation loss\")\n",
    "plt.title(\"Training and validation loss\")\n",
    "plt.xlabel(\"Epochs\")\n",
    "plt.ylabel(\"Loss\")\n",
    "plt.legend()\n",
    "plt.show()"
   ]
  },
  {
   "cell_type": "code",
   "execution_count": 6,
   "id": "cf844eab-1807-4194-b7bb-d5700ad63199",
   "metadata": {},
   "outputs": [
    {
     "name": "stdout",
     "output_type": "stream",
     "text": [
      "79/79 [==============================] - 0s 2ms/step\n"
     ]
    }
   ],
   "source": [
    "predictions = model.predict(test_images, batch_size=128)"
   ]
  },
  {
   "cell_type": "code",
   "execution_count": 7,
   "id": "53a756e5-5bf5-4af1-afe1-4022c0aac107",
   "metadata": {},
   "outputs": [
    {
     "data": {
      "text/plain": [
       "(10000, 784)"
      ]
     },
     "execution_count": 7,
     "metadata": {},
     "output_type": "execute_result"
    }
   ],
   "source": [
    "predictions.shape"
   ]
  },
  {
   "cell_type": "code",
   "execution_count": 8,
   "id": "b1900c4d-1f06-4021-981b-e9e2dadf6838",
   "metadata": {},
   "outputs": [
    {
     "data": {
      "image/png": "[encoded data removed]",
      "text/plain": [
       "<Figure size 432x288 with 1 Axes>"
      ]
     },
     "metadata": {
      "needs_background": "light"
     },
     "output_type": "display_data"
    }
   ],
   "source": [
    "import tensorflow as tf\n",
    "import matplotlib.pyplot as plt\n",
    "\n",
    "digit = tf.reshape(test_images[123], [28,28])\n",
    "plt.imshow(digit, cmap=plt.cm.binary)\n",
    "plt.show()"
   ]
  },
  {
   "cell_type": "code",
   "execution_count": 9,
   "id": "e4f8e512-61f2-460a-8851-05a91007b683",
   "metadata": {},
   "outputs": [
    {
     "data": {
      "image/png": "[encoded data removed]",
      "text/plain": [
       "<Figure size 432x288 with 1 Axes>"
      ]
     },
     "metadata": {
      "needs_background": "light"
     },
     "output_type": "display_data"
    }
   ],
   "source": [
    "digit = tf.reshape(predictions[123], [28,28])\n",
    "plt.imshow(digit, cmap=plt.cm.binary)\n",
    "plt.show()"
   ]
  },
  {
   "cell_type": "code",
   "execution_count": null,
   "id": "541e132e-875b-44bb-af7c-099a61997906",
   "metadata": {},
   "outputs": [],
   "source": []
  },
  {
   "cell_type": "code",
   "execution_count": null,
   "id": "ea829e96-a63b-4990-9f01-ccadf6655866",
   "metadata": {},
   "outputs": [],
   "source": []
  }
 ],
 "metadata": {
  "kernelspec": {
   "display_name": "Python 3",
   "language": "python",
   "name": "python3"
  },
  "language_info": {
   "codemirror_mode": {
    "name": "ipython",
    "version": 3
   },
   "file_extension": ".py",
   "mimetype": "text/x-python",
   "name": "python",
   "nbconvert_exporter": "python",
   "pygments_lexer": "ipython3",
   "version": "3.9.16"
  }
 },
 "nbformat": 4,
 "nbformat_minor": 5
}
